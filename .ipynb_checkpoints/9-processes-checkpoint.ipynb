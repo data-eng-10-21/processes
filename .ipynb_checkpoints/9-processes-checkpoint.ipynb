{
 "cells": [
  {
   "cell_type": "markdown",
   "metadata": {},
   "source": [
    "# Processes"
   ]
  },
  {
   "cell_type": "markdown",
   "metadata": {},
   "source": [
    "### Introduction"
   ]
  },
  {
   "cell_type": "markdown",
   "metadata": {},
   "source": [
    "### How Processes Work"
   ]
  },
  {
   "cell_type": "markdown",
   "metadata": {},
   "source": [
    "When our system start up, various processes startup automatically.  In the shell, we can view information about each of these processess -- just like we can view information about each of our files.  And a we'll see, just like files, processes have owners and permissions associated with them."
   ]
  },
  {
   "cell_type": "markdown",
   "metadata": {},
   "source": [
    "### Viewing Proccesses"
   ]
  },
  {
   "cell_type": "markdown",
   "metadata": {},
   "source": [
    "We can view some of our processes with a call to the `ps` command."
   ]
  },
  {
   "cell_type": "code",
   "execution_count": 2,
   "metadata": {},
   "outputs": [],
   "source": [
    "# !ps"
   ]
  },
  {
   "cell_type": "markdown",
   "metadata": {},
   "source": [
    "Now calling `ps` will only show us the processes associated with the current terminal session.  But we can view additional processes with a call to `ps aux`."
   ]
  },
  {
   "cell_type": "code",
   "execution_count": 4,
   "metadata": {},
   "outputs": [],
   "source": [
    "# !ps aux"
   ]
  },
  {
   "cell_type": "markdown",
   "metadata": {},
   "source": [
    "With `ps aux` we are combining three different flags.  \n",
    "\n",
    "* `x`: Means to show processes even those not associated with the current teminal session.\n",
    "* `a`: Means to show processes from all users\n",
    "* `u`: Means to display who that user is, when listing the processes\n",
    "    \n",
    "Let's take a look at the result."
   ]
  },
  {
   "cell_type": "markdown",
   "metadata": {},
   "source": [
    "<img src=\"./ps_display.png\" width=\"200%\">"
   ]
  },
  {
   "cell_type": "markdown",
   "metadata": {},
   "source": [
    "At the far left, we see the owner of the process and the process id (PID), which identifies the process.  \n",
    "\n",
    "Then we can see some of resources the process is consuming.  We can see these with:\n",
    "\n",
    "* `%CPU`: CPU Percentage\n",
    "* `%Memory`: Memory percentage \n",
    "* `RSS`: (Resident Set Size) Amount of physical memory consumed by the process\n",
    "* `VSZ`: (Virtual Set Size) Amount of memory the process has available to it \n",
    "* `STARTED`: Time when the process started\n",
    "* `TIME`: How long the process has been running"
   ]
  },
  {
   "cell_type": "markdown",
   "metadata": {},
   "source": [
    "The STAT column indicates the status of the command, for example, `R` stands for running, and `S` stands for Stopped, while `T` means the process has been instructed to stop.\n",
    "\n",
    "> More codes are available [here](https://askubuntu.com/questions/1144036/process-status-of-s-s-s-sl)."
   ]
  },
  {
   "cell_type": "markdown",
   "metadata": {},
   "source": [
    "### Moving to TOP"
   ]
  },
  {
   "cell_type": "markdown",
   "metadata": {},
   "source": [
    "Now the `ps` will only show us what the processes running in the machine at the moment that the `ps` command is executed.  To see a continually updating display of the processes, we can use the `top` command"
   ]
  },
  {
   "cell_type": "markdown",
   "metadata": {},
   "source": [
    "<img src=\"./top-programs.png\" width=\"90%\">"
   ]
  },
  {
   "cell_type": "markdown",
   "metadata": {},
   "source": [
    "Top comes in two parts, a system summary at the top, and a table of processes in order of CPU activity."
   ]
  },
  {
   "cell_type": "markdown",
   "metadata": {},
   "source": [
    "At the *very top* is the system summary.  There, we can see the following:  \n",
    "\n",
    "* Processes: Number of processes and the various process states\n",
    "* Load Average: Number of processes waiting to run.  The first is the average for the last minute, then the previous five minutes, and then previous 15 minutes.  \n",
    "* CPU usage: 6.93% used for user processes, 6.22% is used for system processes and 86.84% of the time the CPU is idle.  \n",
    "* PhysMem: Shows the amount of memory being used and unused.\n"
   ]
  },
  {
   "cell_type": "markdown",
   "metadata": {},
   "source": [
    "Then below we see the list of processes, and corresponding information similar to the information in ps aux."
   ]
  },
  {
   "cell_type": "markdown",
   "metadata": {},
   "source": [
    "### Background Jobs and Modifying Processes"
   ]
  },
  {
   "cell_type": "markdown",
   "metadata": {},
   "source": [
    "Now when we run processes, we often run them in the foreground.  For example, when we run a Python server it occupies our terminal."
   ]
  },
  {
   "cell_type": "markdown",
   "metadata": {},
   "source": [
    "<img src=\"./flask_app.png\" width=\"80%\">"
   ]
  },
  {
   "cell_type": "markdown",
   "metadata": {},
   "source": [
    "But we can also run a process in the background, simply by adding an ampersand after our command.  "
   ]
  },
  {
   "cell_type": "markdown",
   "metadata": {},
   "source": [
    "<img src=\"./running_in_bg.png\" width=\"60%\">"
   ]
  },
  {
   "cell_type": "markdown",
   "metadata": {},
   "source": [
    "Now notice that right after the ampersand, we see a number of `3003`.  This is the proccess id."
   ]
  },
  {
   "cell_type": "markdown",
   "metadata": {},
   "source": [
    "It turns out that we can terminate the process -- really any process -- with the kill command followed by the processs id."
   ]
  },
  {
   "cell_type": "markdown",
   "metadata": {},
   "source": [
    "<img src=\"./kill_process.png\" width=\"60%\">"
   ]
  },
  {
   "cell_type": "markdown",
   "metadata": {},
   "source": [
    "Really, linux does not neccessarily terminate the process, but rather sends the process a signal asking it to terminate.  The program listens for a signal, and may act upon it as it is received.  This allows the program to save work in progress before terminating.  \n",
    "\n",
    "If we want the process to terminate without even asking, we can pass the `-9` flag followed by the process id.  \n",
    "\n",
    "* `kill -9 3003`\n",
    "\n",
    "So with a `-9` call, no signal is sent.  Instead the kernel will immediately terminate the process, thus giving the program no opportunity to clean up.  Because of this, passing -9 should not be our first option.  "
   ]
  },
  {
   "cell_type": "markdown",
   "metadata": {},
   "source": [
    "### Summary"
   ]
  },
  {
   "cell_type": "markdown",
   "metadata": {},
   "source": [
    "In this lesson, we saw how to search and list various processes.  We can use ps aux to display all running processes on our system, or we can use the `top` program for an updating display of our processes.\n",
    "\n",
    "With the `ps aux` command, we not only see the process information like the process id and the command that kicked it off, but also see the number of resources consumed by the process, like memory and CPU percentage."
   ]
  },
  {
   "cell_type": "markdown",
   "metadata": {},
   "source": [
    "<img src=\"./ps_display.png\" width=\"200%\">"
   ]
  },
  {
   "cell_type": "markdown",
   "metadata": {},
   "source": [
    "We then also learned how to kill a process from the command line.  We can do so with a call to `kill process_id`, which sends a signal to the process to terminate.  We can also pass the `-9` flag, which terminates the process without even asking."
   ]
  },
  {
   "cell_type": "markdown",
   "metadata": {},
   "source": [
    "### Resources\n",
    "\n",
    "[Processes](https://en.wikipedia.org/wiki/Process_(computing))\n",
    "\n",
    "[The kernel](https://en.wikipedia.org/wiki/Kernel_(operating_system))"
   ]
  }
 ],
 "metadata": {
  "kernelspec": {
   "display_name": "Python 3",
   "language": "python",
   "name": "python3"
  },
  "language_info": {
   "codemirror_mode": {
    "name": "ipython",
    "version": 3
   },
   "file_extension": ".py",
   "mimetype": "text/x-python",
   "name": "python",
   "nbconvert_exporter": "python",
   "pygments_lexer": "ipython3",
   "version": "3.9.1"
  }
 },
 "nbformat": 4,
 "nbformat_minor": 4
}
